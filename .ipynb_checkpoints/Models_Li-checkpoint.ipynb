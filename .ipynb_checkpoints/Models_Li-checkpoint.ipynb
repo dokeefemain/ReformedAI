{
 "cells": [
  {
   "cell_type": "code",
   "execution_count": 1,
   "id": "african-student",
   "metadata": {},
   "outputs": [],
   "source": [
    "import pandas as pd\n",
    "import numpy as np\n",
    "import matplotlib.pyplot as plt\n",
    "import seaborn as sns\n",
    "\n",
    "import warnings\n",
    "warnings.filterwarnings(\"ignore\", category=UserWarning)\n",
    "warnings.filterwarnings(\"ignore\", category=RuntimeWarning)"
   ]
  },
  {
   "cell_type": "markdown",
   "id": "mineral-saskatchewan",
   "metadata": {},
   "source": [
    "## 1. Read the data"
   ]
  },
  {
   "cell_type": "code",
   "execution_count": 2,
   "id": "suburban-april",
   "metadata": {},
   "outputs": [],
   "source": [
    "path = 'D:/学习/GSU Courses/2021-Fall/CSC 6780-Fundel Data Science/4-project/cleaned_model_df.csv'"
   ]
  },
  {
   "cell_type": "code",
   "execution_count": 3,
   "id": "permanent-orbit",
   "metadata": {},
   "outputs": [],
   "source": [
    "df = pd.read_csv(path)"
   ]
  },
  {
   "cell_type": "code",
   "execution_count": 4,
   "id": "worth-fellow",
   "metadata": {},
   "outputs": [
    {
     "data": {
      "text/html": [
       "<div>\n",
       "<style scoped>\n",
       "    .dataframe tbody tr th:only-of-type {\n",
       "        vertical-align: middle;\n",
       "    }\n",
       "\n",
       "    .dataframe tbody tr th {\n",
       "        vertical-align: top;\n",
       "    }\n",
       "\n",
       "    .dataframe thead th {\n",
       "        text-align: right;\n",
       "    }\n",
       "</style>\n",
       "<table border=\"1\" class=\"dataframe\">\n",
       "  <thead>\n",
       "    <tr style=\"text-align: right;\">\n",
       "      <th></th>\n",
       "      <th>IDEOLOGY1</th>\n",
       "      <th>IDEOLOGY2</th>\n",
       "      <th>IDEOLOGY3</th>\n",
       "      <th>IDEOLOGY5</th>\n",
       "      <th>IDEOLOGY6</th>\n",
       "      <th>IDEOLOGY7</th>\n",
       "      <th>IDEOLOGY8</th>\n",
       "      <th>CULTURE1_1</th>\n",
       "      <th>CULTURE1_2</th>\n",
       "      <th>CULTURE1_3</th>\n",
       "      <th>...</th>\n",
       "      <th>HR7_4</th>\n",
       "      <th>HR8</th>\n",
       "      <th>HR11</th>\n",
       "      <th>HR12_1</th>\n",
       "      <th>HR12_2</th>\n",
       "      <th>HR12_3</th>\n",
       "      <th>HR12_4</th>\n",
       "      <th>HR12_5</th>\n",
       "      <th>HR13</th>\n",
       "      <th>HR14</th>\n",
       "    </tr>\n",
       "  </thead>\n",
       "  <tbody>\n",
       "    <tr>\n",
       "      <th>0</th>\n",
       "      <td>2</td>\n",
       "      <td>7</td>\n",
       "      <td>1</td>\n",
       "      <td>2</td>\n",
       "      <td>2</td>\n",
       "      <td>0</td>\n",
       "      <td>2</td>\n",
       "      <td>5</td>\n",
       "      <td>3</td>\n",
       "      <td>3</td>\n",
       "      <td>...</td>\n",
       "      <td>2</td>\n",
       "      <td>2</td>\n",
       "      <td>0.0</td>\n",
       "      <td>0</td>\n",
       "      <td>0</td>\n",
       "      <td>0</td>\n",
       "      <td>1</td>\n",
       "      <td>2</td>\n",
       "      <td>1</td>\n",
       "      <td>4</td>\n",
       "    </tr>\n",
       "    <tr>\n",
       "      <th>1</th>\n",
       "      <td>1</td>\n",
       "      <td>1</td>\n",
       "      <td>1</td>\n",
       "      <td>0</td>\n",
       "      <td>2</td>\n",
       "      <td>2</td>\n",
       "      <td>0</td>\n",
       "      <td>3</td>\n",
       "      <td>2</td>\n",
       "      <td>1</td>\n",
       "      <td>...</td>\n",
       "      <td>2</td>\n",
       "      <td>2</td>\n",
       "      <td>1.0</td>\n",
       "      <td>1</td>\n",
       "      <td>0</td>\n",
       "      <td>1</td>\n",
       "      <td>0</td>\n",
       "      <td>1</td>\n",
       "      <td>2</td>\n",
       "      <td>1</td>\n",
       "    </tr>\n",
       "    <tr>\n",
       "      <th>2</th>\n",
       "      <td>0</td>\n",
       "      <td>0</td>\n",
       "      <td>0</td>\n",
       "      <td>2</td>\n",
       "      <td>0</td>\n",
       "      <td>5</td>\n",
       "      <td>0</td>\n",
       "      <td>5</td>\n",
       "      <td>5</td>\n",
       "      <td>5</td>\n",
       "      <td>...</td>\n",
       "      <td>0</td>\n",
       "      <td>0</td>\n",
       "      <td>2.0</td>\n",
       "      <td>0</td>\n",
       "      <td>0</td>\n",
       "      <td>0</td>\n",
       "      <td>0</td>\n",
       "      <td>0</td>\n",
       "      <td>5</td>\n",
       "      <td>3</td>\n",
       "    </tr>\n",
       "    <tr>\n",
       "      <th>3</th>\n",
       "      <td>2</td>\n",
       "      <td>7</td>\n",
       "      <td>3</td>\n",
       "      <td>0</td>\n",
       "      <td>3</td>\n",
       "      <td>1</td>\n",
       "      <td>1</td>\n",
       "      <td>4</td>\n",
       "      <td>4</td>\n",
       "      <td>4</td>\n",
       "      <td>...</td>\n",
       "      <td>3</td>\n",
       "      <td>1</td>\n",
       "      <td>2.0</td>\n",
       "      <td>1</td>\n",
       "      <td>1</td>\n",
       "      <td>1</td>\n",
       "      <td>1</td>\n",
       "      <td>1</td>\n",
       "      <td>1</td>\n",
       "      <td>4</td>\n",
       "    </tr>\n",
       "    <tr>\n",
       "      <th>4</th>\n",
       "      <td>1</td>\n",
       "      <td>1</td>\n",
       "      <td>2</td>\n",
       "      <td>0</td>\n",
       "      <td>2</td>\n",
       "      <td>2</td>\n",
       "      <td>2</td>\n",
       "      <td>5</td>\n",
       "      <td>4</td>\n",
       "      <td>3</td>\n",
       "      <td>...</td>\n",
       "      <td>3</td>\n",
       "      <td>0</td>\n",
       "      <td>2.0</td>\n",
       "      <td>0</td>\n",
       "      <td>1</td>\n",
       "      <td>0</td>\n",
       "      <td>1</td>\n",
       "      <td>1</td>\n",
       "      <td>4</td>\n",
       "      <td>3</td>\n",
       "    </tr>\n",
       "  </tbody>\n",
       "</table>\n",
       "<p>5 rows × 59 columns</p>\n",
       "</div>"
      ],
      "text/plain": [
       "   IDEOLOGY1  IDEOLOGY2  IDEOLOGY3  IDEOLOGY5  IDEOLOGY6  IDEOLOGY7  \\\n",
       "0          2          7          1          2          2          0   \n",
       "1          1          1          1          0          2          2   \n",
       "2          0          0          0          2          0          5   \n",
       "3          2          7          3          0          3          1   \n",
       "4          1          1          2          0          2          2   \n",
       "\n",
       "   IDEOLOGY8  CULTURE1_1  CULTURE1_2  CULTURE1_3  ...  HR7_4  HR8  HR11  \\\n",
       "0          2           5           3           3  ...      2    2   0.0   \n",
       "1          0           3           2           1  ...      2    2   1.0   \n",
       "2          0           5           5           5  ...      0    0   2.0   \n",
       "3          1           4           4           4  ...      3    1   2.0   \n",
       "4          2           5           4           3  ...      3    0   2.0   \n",
       "\n",
       "   HR12_1  HR12_2  HR12_3  HR12_4  HR12_5  HR13  HR14  \n",
       "0       0       0       0       1       2     1     4  \n",
       "1       1       0       1       0       1     2     1  \n",
       "2       0       0       0       0       0     5     3  \n",
       "3       1       1       1       1       1     1     4  \n",
       "4       0       1       0       1       1     4     3  \n",
       "\n",
       "[5 rows x 59 columns]"
      ]
     },
     "execution_count": 4,
     "metadata": {},
     "output_type": "execute_result"
    }
   ],
   "source": [
    "df.head()"
   ]
  },
  {
   "cell_type": "code",
   "execution_count": 5,
   "id": "white-syndicate",
   "metadata": {},
   "outputs": [
    {
     "data": {
      "text/plain": [
       "(1209, 59)"
      ]
     },
     "execution_count": 5,
     "metadata": {},
     "output_type": "execute_result"
    }
   ],
   "source": [
    "df.shape"
   ]
  },
  {
   "cell_type": "code",
   "execution_count": 6,
   "id": "shaped-coach",
   "metadata": {},
   "outputs": [
    {
     "data": {
      "text/plain": [
       "int64      58\n",
       "float64     1\n",
       "dtype: int64"
      ]
     },
     "execution_count": 6,
     "metadata": {},
     "output_type": "execute_result"
    }
   ],
   "source": [
    "df.dtypes.value_counts()"
   ]
  },
  {
   "cell_type": "code",
   "execution_count": 5,
   "id": "progressive-maximum",
   "metadata": {},
   "outputs": [],
   "source": [
    "fea_col = ['IDEOLOGY1','IDEOLOGY2','IDEOLOGY3','IDEOLOGY5','IDEOLOGY6','IDEOLOGY7','IDEOLOGY8',\n",
    " 'CULTURE1_1','CULTURE1_2','CULTURE1_3','CULTURE1_4','CULTURE1_5','CULTURE1_6',\n",
    " 'CULTURE2_1','CULTURE2_2','CULTURE2_3','CULTURE2_4','CULTURE2_5','CULTURE2_6','CULTURE2_7', \n",
    " 'DEMOGRAPHIC1_EMPLOYED','DEMOGRAPHIC1_UNEMPLOYED','DEMOGRAPHIC1_RETIRED','DEMOGRAPHIC1_STUDENTS','DEMOGRAPHIC1_OTHER',\n",
    " 'DEMOGRAPHIC2','DEMOGRAPHIC4','DEMOGRAPHIC6','DEMOGRAPHIC7',\n",
    " 'DEMOGRAPHIC8','DEMOGRAPHIC9','DEMOGRAPHIC10','DEMOGRAPHIC11','DEMOGRAPHIC12','DEMOGRAPHIC13',\n",
    " 'age'\n",
    "]"
   ]
  },
  {
   "cell_type": "code",
   "execution_count": 6,
   "id": "circular-jersey",
   "metadata": {},
   "outputs": [],
   "source": [
    "X = df[fea_col]"
   ]
  },
  {
   "cell_type": "code",
   "execution_count": 9,
   "id": "obvious-dover",
   "metadata": {},
   "outputs": [
    {
     "data": {
      "text/plain": [
       "int64    36\n",
       "dtype: int64"
      ]
     },
     "execution_count": 9,
     "metadata": {},
     "output_type": "execute_result"
    }
   ],
   "source": [
    "X.dtypes.value_counts()"
   ]
  },
  {
   "cell_type": "code",
   "execution_count": 26,
   "id": "spatial-rabbit",
   "metadata": {},
   "outputs": [
    {
     "data": {
      "text/plain": [
       "(1209, 36)"
      ]
     },
     "execution_count": 26,
     "metadata": {},
     "output_type": "execute_result"
    }
   ],
   "source": [
    "X.shape"
   ]
  },
  {
   "cell_type": "code",
   "execution_count": 11,
   "id": "raising-winning",
   "metadata": {},
   "outputs": [],
   "source": [
    "# y_col = [ 'HR1_10SCALE','HR2_1','HR2_2','HR2_3','HR2_4','HR2_5',\n",
    "#          'HR3','HR4','HR5','HR6',\n",
    "#          'HR7_1','HR7_2','HR7_3','HR7_4',\n",
    "#          'HR8','HR11',\n",
    "#          'HR12_1','HR12_2','HR12_3','HR12_4','HR12_5','HR13','HR14']"
   ]
  },
  {
   "cell_type": "code",
   "execution_count": 7,
   "id": "european-helping",
   "metadata": {},
   "outputs": [],
   "source": [
    "y = df['HR1_10SCALE']"
   ]
  },
  {
   "cell_type": "code",
   "execution_count": 11,
   "id": "extensive-penguin",
   "metadata": {},
   "outputs": [
    {
     "data": {
      "text/plain": [
       "(1209,)"
      ]
     },
     "execution_count": 11,
     "metadata": {},
     "output_type": "execute_result"
    }
   ],
   "source": [
    "y.shape"
   ]
  },
  {
   "cell_type": "code",
   "execution_count": 12,
   "id": "stretch-brazil",
   "metadata": {},
   "outputs": [
    {
     "data": {
      "text/plain": [
       "1     348\n",
       "10    190\n",
       "5     125\n",
       "2     118\n",
       "3      96\n",
       "8      87\n",
       "7      75\n",
       "9      71\n",
       "6      62\n",
       "4      37\n",
       "Name: HR1_10SCALE, dtype: int64"
      ]
     },
     "execution_count": 12,
     "metadata": {},
     "output_type": "execute_result"
    }
   ],
   "source": [
    "y.value_counts()"
   ]
  },
  {
   "cell_type": "markdown",
   "id": "invalid-cannon",
   "metadata": {},
   "source": [
    "## 2. Split the dataset"
   ]
  },
  {
   "cell_type": "code",
   "execution_count": 8,
   "id": "sustained-prospect",
   "metadata": {},
   "outputs": [],
   "source": [
    "from sklearn.model_selection import train_test_split"
   ]
  },
  {
   "cell_type": "code",
   "execution_count": 9,
   "id": "russian-minister",
   "metadata": {},
   "outputs": [],
   "source": [
    "X_train, X_test, y_train, y_test = train_test_split(X, y,\n",
    "                 test_size=0.33, random_state=78)"
   ]
  },
  {
   "cell_type": "code",
   "execution_count": 49,
   "id": "satellite-advancement",
   "metadata": {},
   "outputs": [
    {
     "data": {
      "text/plain": [
       "(810, 36)"
      ]
     },
     "execution_count": 49,
     "metadata": {},
     "output_type": "execute_result"
    }
   ],
   "source": [
    "X_train.shape"
   ]
  },
  {
   "cell_type": "markdown",
   "id": "familiar-powder",
   "metadata": {},
   "source": [
    "## 3. Information-Based Learning\n",
    "### 1)  Decision tree"
   ]
  },
  {
   "cell_type": "code",
   "execution_count": 16,
   "id": "competent-romance",
   "metadata": {},
   "outputs": [],
   "source": [
    "from sklearn.tree import DecisionTreeClassifier"
   ]
  },
  {
   "cell_type": "code",
   "execution_count": 18,
   "id": "major-mexico",
   "metadata": {},
   "outputs": [],
   "source": [
    "dt = DecisionTreeClassifier(max_depth = 20,criterion='entropy',random_state=42)\n",
    "dt = dt.fit(X_train, y_train)"
   ]
  },
  {
   "cell_type": "code",
   "execution_count": 19,
   "id": "optical-arabic",
   "metadata": {},
   "outputs": [],
   "source": [
    "y_train_pred_dt = dt.predict(X_train)\n",
    "y_test_pred_dt = dt.predict(X_test)"
   ]
  },
  {
   "cell_type": "code",
   "execution_count": 10,
   "id": "stable-adult",
   "metadata": {},
   "outputs": [],
   "source": [
    "from sklearn.metrics import accuracy_score, precision_score, recall_score, f1_score, confusion_matrix, coverage_error,roc_auc_score, classification_report"
   ]
  },
  {
   "cell_type": "code",
   "execution_count": 38,
   "id": "naval-beatles",
   "metadata": {},
   "outputs": [],
   "source": [
    "# def measure_error(y_true, y_pred, label):\n",
    "#     return pd.Series({'Accuracy':accuracy_score(y_true, y_pred),\n",
    "#                       name=label)\n",
    "#                       'Precision': precision_score(y_true, y_pred),\n",
    "#                       'ROC_AUC':roc_auc_score(y_true, y_pred),\n",
    "#                       'Recall': recall_score(y_true, y_pred),\n",
    "#                       'F1': f1_score(y_true, y_pred),\n",
    "#                       'Coverage':coverage_error(y_true, y_pred)},"
   ]
  },
  {
   "cell_type": "code",
   "execution_count": 21,
   "id": "thirty-storage",
   "metadata": {},
   "outputs": [
    {
     "data": {
      "text/plain": [
       "0.18045112781954886"
      ]
     },
     "execution_count": 21,
     "metadata": {},
     "output_type": "execute_result"
    }
   ],
   "source": [
    "accuracy_dt=accuracy_score(y_test, y_test_pred_dt)\n",
    "accuracy_dt"
   ]
  },
  {
   "cell_type": "code",
   "execution_count": 22,
   "id": "pointed-relations",
   "metadata": {},
   "outputs": [
    {
     "data": {
      "image/png": "[encoded data removed]",
      "text/plain": [
       "<Figure size 432x288 with 2 Axes>"
      ]
     },
     "metadata": {
      "needs_background": "light"
     },
     "output_type": "display_data"
    }
   ],
   "source": [
    "cm = confusion_matrix(y_test, y_test_pred_dt)\n",
    "cm_df = pd.DataFrame(cm)\n",
    "ax = sns.heatmap(cm, annot=True, fmt='d')"
   ]
  },
  {
   "cell_type": "code",
   "execution_count": 39,
   "id": "printable-clearing",
   "metadata": {},
   "outputs": [],
   "source": [
    "from sklearn import tree"
   ]
  },
  {
   "cell_type": "code",
   "execution_count": 42,
   "id": "martial-charity",
   "metadata": {},
   "outputs": [
    {
     "data": {
      "image/png": "[encoded data removed]",
      "text/plain": [
       "<Figure size 432x288 with 1 Axes>"
      ]
     },
     "metadata": {
      "needs_background": "light"
     },
     "output_type": "display_data"
    }
   ],
   "source": [
    "ax=tree.plot_tree(dt, feature_names=fea_col, class_names='HR1_10SCALE', filled=True, proportion='True')"
   ]
  },
  {
   "cell_type": "markdown",
   "id": "british-reserve",
   "metadata": {},
   "source": [
    "### 2)  AdaBoost"
   ]
  },
  {
   "cell_type": "code",
   "execution_count": 23,
   "id": "solar-facility",
   "metadata": {},
   "outputs": [],
   "source": [
    "from sklearn.ensemble import AdaBoostClassifier"
   ]
  },
  {
   "cell_type": "code",
   "execution_count": 24,
   "id": "disturbed-groove",
   "metadata": {},
   "outputs": [],
   "source": [
    "dt = DecisionTreeClassifier(max_depth = 20,criterion='entropy',random_state=78)\n",
    "ABC = AdaBoostClassifier(base_estimator=dt, n_estimators=10, random_state=78)\n",
    "ABC = ABC.fit(X_train, y_train)\n",
    "y_test_pred_abc = ABC.predict(X_test)"
   ]
  },
  {
   "cell_type": "code",
   "execution_count": 25,
   "id": "chronic-colorado",
   "metadata": {},
   "outputs": [
    {
     "data": {
      "text/plain": [
       "0.17042606516290726"
      ]
     },
     "execution_count": 25,
     "metadata": {},
     "output_type": "execute_result"
    }
   ],
   "source": [
    "accuracy_abc = accuracy_score(y_test, y_test_pred_abc)\n",
    "accuracy_abc"
   ]
  },
  {
   "cell_type": "code",
   "execution_count": 49,
   "id": "asian-blank",
   "metadata": {},
   "outputs": [
    {
     "data": {
      "image/png": "[encoded data removed]",
      "text/plain": [
       "<Figure size 432x288 with 1 Axes>"
      ]
     },
     "metadata": {
      "needs_background": "light"
     },
     "output_type": "display_data"
    }
   ],
   "source": [
    "ax=tree.plot_tree(ABC.estimators_[0], feature_names=fea_col, class_names='HR1_10SCALE', filled=True, proportion='True')"
   ]
  },
  {
   "cell_type": "code",
   "execution_count": 50,
   "id": "initial-fence",
   "metadata": {
    "scrolled": true
   },
   "outputs": [
    {
     "name": "stdout",
     "output_type": "stream",
     "text": [
      "Fitting model with 4 trees\n",
      "Fitting model with 5 trees\n",
      "Fitting model with 6 trees\n",
      "Fitting model with 7 trees\n",
      "Fitting model with 8 trees\n",
      "Fitting model with 9 trees\n",
      "Fitting model with 10 trees\n",
      "Fitting model with 11 trees\n",
      "Fitting model with 12 trees\n",
      "Fitting model with 13 trees\n",
      "Fitting model with 14 trees\n",
      "Fitting model with 15 trees\n",
      "Fitting model with 16 trees\n",
      "Fitting model with 17 trees\n",
      "Fitting model with 18 trees\n",
      "Fitting model with 19 trees\n",
      "Fitting model with 20 trees\n",
      "Fitting model with 21 trees\n",
      "Fitting model with 22 trees\n",
      "Fitting model with 23 trees\n",
      "Fitting model with 24 trees\n",
      "Fitting model with 25 trees\n",
      "Fitting model with 26 trees\n",
      "Fitting model with 27 trees\n",
      "Fitting model with 28 trees\n",
      "Fitting model with 29 trees\n",
      "Fitting model with 30 trees\n",
      "Fitting model with 31 trees\n",
      "Fitting model with 32 trees\n",
      "Fitting model with 33 trees\n",
      "Fitting model with 34 trees\n",
      "Fitting model with 35 trees\n",
      "Fitting model with 36 trees\n",
      "Fitting model with 37 trees\n",
      "Fitting model with 38 trees\n",
      "Fitting model with 39 trees\n",
      "Fitting model with 40 trees\n",
      "Fitting model with 41 trees\n",
      "Fitting model with 42 trees\n",
      "Fitting model with 43 trees\n",
      "Fitting model with 44 trees\n",
      "Fitting model with 45 trees\n",
      "Fitting model with 46 trees\n",
      "Fitting model with 47 trees\n",
      "Fitting model with 48 trees\n",
      "Fitting model with 49 trees\n",
      "Fitting model with 50 trees\n",
      "Fitting model with 51 trees\n",
      "Fitting model with 52 trees\n",
      "Fitting model with 53 trees\n",
      "Fitting model with 54 trees\n",
      "Fitting model with 55 trees\n",
      "Fitting model with 56 trees\n",
      "Fitting model with 57 trees\n",
      "Fitting model with 58 trees\n",
      "Fitting model with 59 trees\n",
      "Fitting model with 60 trees\n",
      "Fitting model with 61 trees\n",
      "Fitting model with 62 trees\n",
      "Fitting model with 63 trees\n",
      "Fitting model with 64 trees\n",
      "Fitting model with 65 trees\n",
      "Fitting model with 66 trees\n",
      "Fitting model with 67 trees\n",
      "Fitting model with 68 trees\n",
      "Fitting model with 69 trees\n",
      "Fitting model with 70 trees\n",
      "Fitting model with 71 trees\n",
      "Fitting model with 72 trees\n",
      "Fitting model with 73 trees\n",
      "Fitting model with 74 trees\n",
      "Fitting model with 75 trees\n",
      "Fitting model with 76 trees\n",
      "Fitting model with 77 trees\n",
      "Fitting model with 78 trees\n",
      "Fitting model with 79 trees\n",
      "Fitting model with 80 trees\n",
      "Fitting model with 81 trees\n",
      "Fitting model with 82 trees\n",
      "Fitting model with 83 trees\n",
      "Fitting model with 84 trees\n",
      "Fitting model with 85 trees\n",
      "Fitting model with 86 trees\n",
      "Fitting model with 87 trees\n",
      "Fitting model with 88 trees\n",
      "Fitting model with 89 trees\n",
      "Fitting model with 90 trees\n",
      "Fitting model with 91 trees\n",
      "Fitting model with 92 trees\n",
      "Fitting model with 93 trees\n",
      "Fitting model with 94 trees\n",
      "Fitting model with 95 trees\n",
      "Fitting model with 96 trees\n",
      "Fitting model with 97 trees\n",
      "Fitting model with 98 trees\n",
      "Fitting model with 99 trees\n",
      "Fitting model with 100 trees\n"
     ]
    }
   ],
   "source": [
    "error_list = []\n",
    "dt = DecisionTreeClassifier(max_depth = 20,criterion='entropy',random_state=78)\n",
    "\n",
    "# Iterate through various possibilities for number of trees\n",
    "tree_list = range(4, 101)\n",
    "for n_trees in tree_list:\n",
    "    \n",
    "    # Initialize the AdaBoost classifier\n",
    "    ABC = AdaBoostClassifier(base_estimator=dt, n_estimators=n_trees,random_state=78)\n",
    "\n",
    "    # Fit the model\n",
    "    print(f'Fitting model with {n_trees} trees')\n",
    "    ABC = ABC.fit(X_train, y_train)\n",
    "    y_test_pred_abc = ABC.predict(X_test)\n",
    "\n",
    "    # Get the error\n",
    "    error = 1.0 - accuracy_score(y_test, y_test_pred_abc)\n",
    "    \n",
    "    # Store it\n",
    "    error_list.append(pd.Series({'n_trees': n_trees, 'error': error}))\n",
    "\n",
    "error_df = pd.concat(error_list, axis=1).T.set_index('n_trees')"
   ]
  },
  {
   "cell_type": "code",
   "execution_count": 51,
   "id": "metropolitan-title",
   "metadata": {},
   "outputs": [
    {
     "data": {
      "image/png": "[encoded data removed]",
      "text/plain": [
       "<Figure size 864x576 with 1 Axes>"
      ]
     },
     "metadata": {},
     "output_type": "display_data"
    }
   ],
   "source": [
    "sns.set_context('talk')\n",
    "sns.set_style('white')\n",
    "\n",
    "# Create the plot\n",
    "ax = error_df.plot(marker='o', figsize=(12, 8), linewidth=5)\n",
    "\n",
    "# Set parameters\n",
    "ax.set(xlabel='Number of Trees', ylabel='Error')\n",
    "ax.set_xlim(0, max(error_df.index)*1.1);\n",
    "### END SOLUTION"
   ]
  },
  {
   "cell_type": "markdown",
   "id": "starting-madonna",
   "metadata": {},
   "source": [
    "### 3)  Random forest"
   ]
  },
  {
   "cell_type": "code",
   "execution_count": 26,
   "id": "rocky-samba",
   "metadata": {},
   "outputs": [],
   "source": [
    "from sklearn.ensemble import RandomForestClassifier"
   ]
  },
  {
   "cell_type": "code",
   "execution_count": 58,
   "id": "supposed-vaccine",
   "metadata": {},
   "outputs": [
    {
     "data": {
      "text/html": [
       "<div>\n",
       "<style scoped>\n",
       "    .dataframe tbody tr th:only-of-type {\n",
       "        vertical-align: middle;\n",
       "    }\n",
       "\n",
       "    .dataframe tbody tr th {\n",
       "        vertical-align: top;\n",
       "    }\n",
       "\n",
       "    .dataframe thead th {\n",
       "        text-align: right;\n",
       "    }\n",
       "</style>\n",
       "<table border=\"1\" class=\"dataframe\">\n",
       "  <thead>\n",
       "    <tr style=\"text-align: right;\">\n",
       "      <th></th>\n",
       "      <th>oob</th>\n",
       "    </tr>\n",
       "    <tr>\n",
       "      <th>n_trees</th>\n",
       "      <th></th>\n",
       "    </tr>\n",
       "  </thead>\n",
       "  <tbody>\n",
       "    <tr>\n",
       "      <th>15.0</th>\n",
       "      <td>0.774074</td>\n",
       "    </tr>\n",
       "    <tr>\n",
       "      <th>20.0</th>\n",
       "      <td>0.764198</td>\n",
       "    </tr>\n",
       "    <tr>\n",
       "      <th>30.0</th>\n",
       "      <td>0.756790</td>\n",
       "    </tr>\n",
       "    <tr>\n",
       "      <th>40.0</th>\n",
       "      <td>0.743210</td>\n",
       "    </tr>\n",
       "    <tr>\n",
       "      <th>50.0</th>\n",
       "      <td>0.737037</td>\n",
       "    </tr>\n",
       "    <tr>\n",
       "      <th>100.0</th>\n",
       "      <td>0.725926</td>\n",
       "    </tr>\n",
       "    <tr>\n",
       "      <th>150.0</th>\n",
       "      <td>0.719753</td>\n",
       "    </tr>\n",
       "    <tr>\n",
       "      <th>200.0</th>\n",
       "      <td>0.729630</td>\n",
       "    </tr>\n",
       "    <tr>\n",
       "      <th>300.0</th>\n",
       "      <td>0.713580</td>\n",
       "    </tr>\n",
       "    <tr>\n",
       "      <th>400.0</th>\n",
       "      <td>0.701235</td>\n",
       "    </tr>\n",
       "    <tr>\n",
       "      <th>500.0</th>\n",
       "      <td>0.703704</td>\n",
       "    </tr>\n",
       "    <tr>\n",
       "      <th>600.0</th>\n",
       "      <td>0.706173</td>\n",
       "    </tr>\n",
       "  </tbody>\n",
       "</table>\n",
       "</div>"
      ],
      "text/plain": [
       "              oob\n",
       "n_trees          \n",
       "15.0     0.774074\n",
       "20.0     0.764198\n",
       "30.0     0.756790\n",
       "40.0     0.743210\n",
       "50.0     0.737037\n",
       "100.0    0.725926\n",
       "150.0    0.719753\n",
       "200.0    0.729630\n",
       "300.0    0.713580\n",
       "400.0    0.701235\n",
       "500.0    0.703704\n",
       "600.0    0.706173"
      ]
     },
     "execution_count": 58,
     "metadata": {},
     "output_type": "execute_result"
    }
   ],
   "source": [
    "RF = RandomForestClassifier(oob_score=True, \n",
    "                            random_state=42, \n",
    "                            warm_start=True,\n",
    "                            n_jobs=-1)\n",
    "\n",
    "oob_list = []\n",
    "\n",
    "# Iterate through all of the possibilities for \n",
    "# number of trees\n",
    "for n_trees in [15, 20, 30, 40, 50, 100, 150, 200, 300, 400, 500, 600]:\n",
    "    \n",
    "    # Use this to set the number of trees\n",
    "    RF.set_params(n_estimators=n_trees)\n",
    "\n",
    "    # Fit the model\n",
    "    RF.fit(X_train, y_train)\n",
    "\n",
    "    # Get the oob error\n",
    "    oob_error = 1 - RF.oob_score_\n",
    "    \n",
    "    # Store it\n",
    "    oob_list.append(pd.Series({'n_trees': n_trees, 'oob': oob_error}))\n",
    "\n",
    "rf_oob_df = pd.concat(oob_list, axis=1).T.set_index('n_trees')\n",
    "\n",
    "rf_oob_df"
   ]
  },
  {
   "cell_type": "code",
   "execution_count": 59,
   "id": "union-street",
   "metadata": {},
   "outputs": [
    {
     "data": {
      "image/png": "[encoded data removed]",
      "text/plain": [
       "<Figure size 1008x504 with 1 Axes>"
      ]
     },
     "metadata": {},
     "output_type": "display_data"
    }
   ],
   "source": [
    "sns.set_context('talk')\n",
    "sns.set_style('white')\n",
    "\n",
    "ax = rf_oob_df.plot(legend=False, marker='o', figsize=(14, 7), linewidth=5)\n",
    "ax.set(ylabel='out-of-bag error');"
   ]
  },
  {
   "cell_type": "markdown",
   "id": "intermediate-cancer",
   "metadata": {},
   "source": [
    "## 4. Similarity-Based Learning\n",
    "\n",
    "### Nearest Neighbor Classification"
   ]
  },
  {
   "cell_type": "code",
   "execution_count": 27,
   "id": "private-blocking",
   "metadata": {},
   "outputs": [],
   "source": [
    "from sklearn.neighbors import KNeighborsClassifier"
   ]
  },
  {
   "cell_type": "code",
   "execution_count": 28,
   "id": "preliminary-transaction",
   "metadata": {},
   "outputs": [
    {
     "data": {
      "text/plain": [
       "[Text(0.5, 0, 'k'), Text(0, 0.5, 'Accuracy')]"
      ]
     },
     "execution_count": 28,
     "metadata": {},
     "output_type": "execute_result"
    },
    {
     "data": {
      "image/png": "[encoded data removed]",
      "text/plain": [
       "<Figure size 432x288 with 1 Axes>"
      ]
     },
     "metadata": {
      "needs_background": "light"
     },
     "output_type": "display_data"
    }
   ],
   "source": [
    "resultsKNN = pd.DataFrame(columns=['KNN', 'Score for Training', 'Score for Testing'])\n",
    "\n",
    "for knnCount in range (1,20):\n",
    "    knn = KNeighborsClassifier(n_neighbors=knnCount, p=1, metric='minkowski') #manhattan dist here\n",
    "    knn.fit(X_train, y_train)\n",
    "    y_train_pred_nn = knn.predict(X_train)\n",
    "    y_test_pred_nn = knn.predict(X_test)\n",
    "    \n",
    "    scoreTrain = accuracy_score(y_train, y_train_pred_nn)\n",
    "    scoreTest = accuracy_score(y_test, y_test_pred_nn)\n",
    "\n",
    "    resultsKNN.loc[knnCount] = [knnCount, scoreTrain, scoreTest]\n",
    "    \n",
    "resultsKNN.pop('KNN')\n",
    "ax = resultsKNN.plot()\n",
    "ax.set(xlabel='k', ylabel='Accuracy')"
   ]
  },
  {
   "cell_type": "code",
   "execution_count": 29,
   "id": "instant-convergence",
   "metadata": {},
   "outputs": [],
   "source": [
    "knn = KNeighborsClassifier(n_neighbors=15, p=1, metric='minkowski')\n",
    "knn.fit(X_train, y_train)\n",
    "\n",
    "y_test_pred_nn = knn.predict(X_test)"
   ]
  },
  {
   "cell_type": "code",
   "execution_count": 30,
   "id": "detailed-exercise",
   "metadata": {},
   "outputs": [
    {
     "data": {
      "text/plain": [
       "0.2882205513784461"
      ]
     },
     "execution_count": 30,
     "metadata": {},
     "output_type": "execute_result"
    }
   ],
   "source": [
    "accuracy_nn=accuracy_score(y_test_pred_nn, y_test)\n",
    "accuracy_nn"
   ]
  },
  {
   "cell_type": "code",
   "execution_count": 31,
   "id": "norwegian-limitation",
   "metadata": {},
   "outputs": [
    {
     "data": {
      "image/png": "[encoded data removed]",
      "text/plain": [
       "<Figure size 432x288 with 2 Axes>"
      ]
     },
     "metadata": {
      "needs_background": "light"
     },
     "output_type": "display_data"
    }
   ],
   "source": [
    "cm = confusion_matrix(y_test, y_test_pred_nn)\n",
    "cm_df = pd.DataFrame(cm)\n",
    "ax = sns.heatmap(cm, annot=True, fmt='d')"
   ]
  },
  {
   "cell_type": "markdown",
   "id": "arctic-pixel",
   "metadata": {},
   "source": [
    "## 5. Probability-Based Learning\n",
    "\n",
    "### Naive Bayesian"
   ]
  },
  {
   "cell_type": "code",
   "execution_count": 32,
   "id": "insured-bryan",
   "metadata": {},
   "outputs": [],
   "source": [
    "from sklearn.naive_bayes import GaussianNB"
   ]
  },
  {
   "cell_type": "code",
   "execution_count": 33,
   "id": "micro-river",
   "metadata": {},
   "outputs": [],
   "source": [
    "gnb = GaussianNB(priors = None)\n",
    "gnb.fit(X_train,y_train)\n",
    "\n",
    "y_test_pred_gnb = gnb.predict(X_test)"
   ]
  },
  {
   "cell_type": "code",
   "execution_count": 34,
   "id": "senior-montgomery",
   "metadata": {},
   "outputs": [
    {
     "data": {
      "text/plain": [
       "0.09523809523809523"
      ]
     },
     "execution_count": 34,
     "metadata": {},
     "output_type": "execute_result"
    }
   ],
   "source": [
    "accuracy = accuracy_score(y_test, y_test_pred_gnb)\n",
    "accuracy"
   ]
  },
  {
   "cell_type": "code",
   "execution_count": 35,
   "id": "rapid-voltage",
   "metadata": {},
   "outputs": [
    {
     "data": {
      "image/png": "[encoded data removed]",
      "text/plain": [
       "<Figure size 432x288 with 2 Axes>"
      ]
     },
     "metadata": {
      "needs_background": "light"
     },
     "output_type": "display_data"
    }
   ],
   "source": [
    "cm = confusion_matrix(y_test, y_test_pred_gnb)\n",
    "cm_df = pd.DataFrame(cm)\n",
    "ax = sns.heatmap(cm, annot=True, fmt='d')"
   ]
  },
  {
   "cell_type": "markdown",
   "id": "impossible-generic",
   "metadata": {},
   "source": [
    "## 6. Error-Based Learning\n",
    "\n",
    "### 1) Logistic regression"
   ]
  },
  {
   "cell_type": "code",
   "execution_count": 36,
   "id": "hybrid-blend",
   "metadata": {},
   "outputs": [],
   "source": [
    "from sklearn.linear_model import LogisticRegression"
   ]
  },
  {
   "cell_type": "code",
   "execution_count": 37,
   "id": "severe-victoria",
   "metadata": {},
   "outputs": [],
   "source": [
    "logr = LogisticRegression()\n",
    "logr.fit(X_train, y_train)\n",
    "\n",
    "y_test_pred_logr = logr.predict(X_test)"
   ]
  },
  {
   "cell_type": "code",
   "execution_count": 38,
   "id": "unable-dating",
   "metadata": {},
   "outputs": [
    {
     "data": {
      "text/plain": [
       "0.3107769423558897"
      ]
     },
     "execution_count": 38,
     "metadata": {},
     "output_type": "execute_result"
    }
   ],
   "source": [
    "accuracy = accuracy_score(y_test, y_test_pred_logr)\n",
    "accuracy"
   ]
  },
  {
   "cell_type": "code",
   "execution_count": 39,
   "id": "intended-parliament",
   "metadata": {},
   "outputs": [
    {
     "data": {
      "image/png": "[encoded data removed]",
      "text/plain": [
       "<Figure size 432x288 with 2 Axes>"
      ]
     },
     "metadata": {
      "needs_background": "light"
     },
     "output_type": "display_data"
    }
   ],
   "source": [
    "cm = confusion_matrix(y_test, y_test_pred_logr)\n",
    "cm_df = pd.DataFrame(cm)\n",
    "ax = sns.heatmap(cm, annot=True, fmt='d')"
   ]
  },
  {
   "cell_type": "markdown",
   "id": "exclusive-chile",
   "metadata": {},
   "source": [
    "### 2) Support Vector Machine"
   ]
  },
  {
   "cell_type": "code",
   "execution_count": 40,
   "id": "analyzed-bracket",
   "metadata": {},
   "outputs": [],
   "source": [
    "from sklearn.svm import SVC"
   ]
  },
  {
   "cell_type": "code",
   "execution_count": 41,
   "id": "immediate-density",
   "metadata": {},
   "outputs": [],
   "source": [
    "svc = SVC(kernel='rbf')\n",
    "svc.fit(X_train, y_train)\n",
    "\n",
    "y_test_pred_svc = svc.predict(X_test)"
   ]
  },
  {
   "cell_type": "code",
   "execution_count": 42,
   "id": "willing-division",
   "metadata": {},
   "outputs": [
    {
     "data": {
      "text/plain": [
       "0.3258145363408521"
      ]
     },
     "execution_count": 42,
     "metadata": {},
     "output_type": "execute_result"
    }
   ],
   "source": [
    "accuracy_svc = accuracy_score(y_test, y_test_pred_svc)\n",
    "accuracy_svc"
   ]
  },
  {
   "cell_type": "code",
   "execution_count": 43,
   "id": "joined-lover",
   "metadata": {},
   "outputs": [
    {
     "data": {
      "image/png": "[encoded data removed]",
      "text/plain": [
       "<Figure size 432x288 with 2 Axes>"
      ]
     },
     "metadata": {
      "needs_background": "light"
     },
     "output_type": "display_data"
    }
   ],
   "source": [
    "cm = confusion_matrix(y_test, y_test_pred_svc)\n",
    "cm_df = pd.DataFrame(cm)\n",
    "ax = sns.heatmap(cm, annot=True, fmt='d')"
   ]
  },
  {
   "cell_type": "markdown",
   "id": "thrown-width",
   "metadata": {},
   "source": [
    "## 7. Deep Learning\n",
    "\n",
    "### Artificial Neural Networks"
   ]
  },
  {
   "cell_type": "code",
   "execution_count": 31,
   "id": "western-parent",
   "metadata": {},
   "outputs": [],
   "source": [
    "from sklearn.preprocessing import StandardScaler\n",
    "from tensorflow import keras\n",
    "from tensorflow.keras.models  import Sequential\n",
    "from tensorflow.keras.layers import Input, Dense, Flatten, Activation,Dropout, BatchNormalization, Conv2D, MaxPooling2D\n",
    "from tensorflow.keras.optimizers import Adam, SGD, RMSprop"
   ]
  },
  {
   "cell_type": "code",
   "execution_count": 12,
   "id": "genetic-valuable",
   "metadata": {},
   "outputs": [],
   "source": [
    "normalizer = StandardScaler()\n",
    "X_train_norm = normalizer.fit_transform(X_train)\n",
    "X_test_norm = normalizer.transform(X_test)"
   ]
  },
  {
   "cell_type": "code",
   "execution_count": 19,
   "id": "unnecessary-fundamentals",
   "metadata": {},
   "outputs": [],
   "source": [
    "model_1 = Sequential()\n",
    "model_1.add(Dense(10,input_shape = (36,),activation='sigmoid'))\n",
    "model_1.add(Dense(10,  activation='relu'))\n",
    "model_1.add(Dense(10,  activation='sigmoid'))\n",
    "model_1.add(Dense(10,  activation='relu'))\n",
    "model_1.add(Dense(1,activation='sigmoid'))"
   ]
  },
  {
   "cell_type": "code",
   "execution_count": 20,
   "id": "liberal-still",
   "metadata": {},
   "outputs": [
    {
     "name": "stdout",
     "output_type": "stream",
     "text": [
      "Model: \"sequential_1\"\n",
      "_________________________________________________________________\n",
      "Layer (type)                 Output Shape              Param #   \n",
      "=================================================================\n",
      "dense_5 (Dense)              (None, 10)                370       \n",
      "_________________________________________________________________\n",
      "dense_6 (Dense)              (None, 10)                110       \n",
      "_________________________________________________________________\n",
      "dense_7 (Dense)              (None, 10)                110       \n",
      "_________________________________________________________________\n",
      "dense_8 (Dense)              (None, 10)                110       \n",
      "_________________________________________________________________\n",
      "dense_9 (Dense)              (None, 1)                 11        \n",
      "=================================================================\n",
      "Total params: 711\n",
      "Trainable params: 711\n",
      "Non-trainable params: 0\n",
      "_________________________________________________________________\n"
     ]
    }
   ],
   "source": [
    "model_1.summary()"
   ]
  },
  {
   "cell_type": "code",
   "execution_count": 21,
   "id": "precious-infrared",
   "metadata": {},
   "outputs": [
    {
     "name": "stdout",
     "output_type": "stream",
     "text": [
      "Epoch 1/20\n",
      "26/26 [==============================] - 1s 10ms/step - loss: 2.1331 - accuracy: 0.0511 - val_loss: -1.3022 - val_accuracy: 0.3258\n",
      "Epoch 2/20\n",
      "26/26 [==============================] - 0s 3ms/step - loss: -2.5556 - accuracy: 0.2687 - val_loss: -6.1009 - val_accuracy: 0.3258\n",
      "Epoch 3/20\n",
      "26/26 [==============================] - 0s 3ms/step - loss: -8.8384 - accuracy: 0.2655 - val_loss: -17.3619 - val_accuracy: 0.3258\n",
      "Epoch 4/20\n",
      "26/26 [==============================] - 0s 3ms/step - loss: -26.3654 - accuracy: 0.2561 - val_loss: -61.8032 - val_accuracy: 0.3258\n",
      "Epoch 5/20\n",
      "26/26 [==============================] - 0s 3ms/step - loss: -109.9197 - accuracy: 0.2873 - val_loss: -419.7276 - val_accuracy: 0.3258\n",
      "Epoch 6/20\n",
      "26/26 [==============================] - 0s 3ms/step - loss: -819.0461 - accuracy: 0.2665 - val_loss: -3029.6814 - val_accuracy: 0.3258\n",
      "Epoch 7/20\n",
      "26/26 [==============================] - 0s 3ms/step - loss: -5952.0631 - accuracy: 0.2507 - val_loss: -22143.2031 - val_accuracy: 0.3258\n",
      "Epoch 8/20\n",
      "26/26 [==============================] - 0s 3ms/step - loss: -41976.3955 - accuracy: 0.2815 - val_loss: -164535.4531 - val_accuracy: 0.3258\n",
      "Epoch 9/20\n",
      "26/26 [==============================] - 0s 3ms/step - loss: -314806.3056 - accuracy: 0.2863 - val_loss: -1179506.8750 - val_accuracy: 0.3258\n",
      "Epoch 10/20\n",
      "26/26 [==============================] - 0s 3ms/step - loss: -2323817.8056 - accuracy: 0.2539 - val_loss: -8534945.0000 - val_accuracy: 0.3258\n",
      "Epoch 11/20\n",
      "26/26 [==============================] - 0s 3ms/step - loss: -16933569.6296 - accuracy: 0.2567 - val_loss: -60157864.0000 - val_accuracy: 0.3258\n",
      "Epoch 12/20\n",
      "26/26 [==============================] - 0s 3ms/step - loss: -117982529.7778 - accuracy: 0.2909 - val_loss: -439832160.0000 - val_accuracy: 0.3258\n",
      "Epoch 13/20\n",
      "26/26 [==============================] - 0s 3ms/step - loss: -849242057.4815 - accuracy: 0.2836 - val_loss: -3162225920.0000 - val_accuracy: 0.3258\n",
      "Epoch 14/20\n",
      "26/26 [==============================] - 0s 3ms/step - loss: -6407023483.2593 - accuracy: 0.2676 - val_loss: -22406049792.0000 - val_accuracy: 0.3258\n",
      "Epoch 15/20\n",
      "26/26 [==============================] - 0s 3ms/step - loss: -44823969109.3333 - accuracy: 0.2660 - val_loss: -160900087808.0000 - val_accuracy: 0.3258\n",
      "Epoch 16/20\n",
      "26/26 [==============================] - 0s 3ms/step - loss: -307686343869.6296 - accuracy: 0.2685 - val_loss: -1132248170496.0000 - val_accuracy: 0.3258\n",
      "Epoch 17/20\n",
      "26/26 [==============================] - 0s 3ms/step - loss: -2198609936990.8147 - accuracy: 0.2578 - val_loss: -7939088711680.0000 - val_accuracy: 0.3258\n",
      "Epoch 18/20\n",
      "26/26 [==============================] - 0s 3ms/step - loss: -15380423619621.9258 - accuracy: 0.2756 - val_loss: -55065838616576.0000 - val_accuracy: 0.3258\n",
      "Epoch 19/20\n",
      "26/26 [==============================] - 0s 3ms/step - loss: -109811585350466.3750 - accuracy: 0.2750 - val_loss: -398059716476928.0000 - val_accuracy: 0.3258\n",
      "Epoch 20/20\n",
      "26/26 [==============================] - 0s 4ms/step - loss: -788271042609758.8750 - accuracy: 0.2608 - val_loss: -2827580713467904.0000 - val_accuracy: 0.3258\n"
     ]
    }
   ],
   "source": [
    "model_1.compile(SGD(lr = .003), \"binary_crossentropy\", metrics=[\"accuracy\"])\n",
    "run_model_1 = model_1.fit(X_train_norm, y_train, validation_data=(X_test_norm, y_test), epochs=20)"
   ]
  },
  {
   "cell_type": "code",
   "execution_count": 22,
   "id": "congressional-snowboard",
   "metadata": {},
   "outputs": [],
   "source": [
    "y_pred_class_nn_1 = model_1.predict_classes(X_test_norm)\n",
    "y_pred_prob_nn_1 = model_1.predict(X_test_norm)"
   ]
  },
  {
   "cell_type": "code",
   "execution_count": 23,
   "id": "nasty-baltimore",
   "metadata": {},
   "outputs": [
    {
     "name": "stdout",
     "output_type": "stream",
     "text": [
      "accuracy is 0.326\n"
     ]
    }
   ],
   "source": [
    "print('accuracy is {:.3f}'.format(accuracy_score(y_test,y_pred_class_nn_1)))"
   ]
  },
  {
   "cell_type": "code",
   "execution_count": 25,
   "id": "disciplinary-memphis",
   "metadata": {},
   "outputs": [
    {
     "data": {
      "image/png": "[encoded data removed]",
      "text/plain": [
       "<Figure size 432x288 with 2 Axes>"
      ]
     },
     "metadata": {
      "needs_background": "light"
     },
     "output_type": "display_data"
    }
   ],
   "source": [
    "cm_nn = confusion_matrix(y_test, y_pred_prob_nn_1)\n",
    "cm_df = pd.DataFrame(cm_nn)\n",
    "ax = sns.heatmap(cm_nn, annot=True, fmt='d')"
   ]
  }
 ],
 "metadata": {
  "kernelspec": {
   "display_name": "Python 3",
   "language": "python",
   "name": "python3"
  },
  "language_info": {
   "codemirror_mode": {
    "name": "ipython",
    "version": 3
   },
   "file_extension": ".py",
   "mimetype": "text/x-python",
   "name": "python",
   "nbconvert_exporter": "python",
   "pygments_lexer": "ipython3",
   "version": "3.8.8"
  }
 },
 "nbformat": 4,
 "nbformat_minor": 5
}
